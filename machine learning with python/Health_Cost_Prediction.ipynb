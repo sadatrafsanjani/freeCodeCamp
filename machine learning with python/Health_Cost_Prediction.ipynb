{
  "cells": [
    {
      "cell_type": "code",
      "execution_count": 13,
      "metadata": {
        "id": "1rRo8oNqZ-Rj",
        "colab": {
          "base_uri": "https://localhost:8080/"
        },
        "outputId": "49c6b571-71c0-4bf3-9145-27cbc0191af4"
      },
      "outputs": [
        {
          "output_type": "stream",
          "name": "stdout",
          "text": [
            "  Preparing metadata (setup.py) ... \u001b[?25l\u001b[?25hdone\n",
            "Colab only includes TensorFlow 2.x; %tensorflow_version has no effect.\n"
          ]
        }
      ],
      "source": [
        "# Import libraries. You may or may not use all of these.\n",
        "!pip install -q git+https://github.com/tensorflow/docs\n",
        "import matplotlib.pyplot as plt\n",
        "import numpy as np\n",
        "import pandas as pd\n",
        "\n",
        "try:\n",
        "  # %tensorflow_version only exists in Colab.\n",
        "  %tensorflow_version 2.x\n",
        "except Exception:\n",
        "  pass\n",
        "import tensorflow as tf\n",
        "\n",
        "from tensorflow import keras\n",
        "from tensorflow.keras import layers, Sequential\n",
        "import tensorflow_docs as tfdocs\n",
        "import tensorflow_docs.plots\n",
        "import tensorflow_docs.modeling\n",
        "import matplotlib.pyplot as plt\n",
        "import numpy as np\n",
        "import pandas as pd"
      ]
    },
    {
      "cell_type": "code",
      "execution_count": 14,
      "metadata": {
        "id": "CiX2FI4gZtTt",
        "colab": {
          "base_uri": "https://localhost:8080/"
        },
        "outputId": "e0482f95-2bff-4150-8736-8c2e05034de2"
      },
      "outputs": [
        {
          "output_type": "stream",
          "name": "stdout",
          "text": [
            "--2024-01-20 17:02:58--  https://cdn.freecodecamp.org/project-data/health-costs/insurance.csv\n",
            "Resolving cdn.freecodecamp.org (cdn.freecodecamp.org)... 104.26.3.33, 172.67.70.149, 104.26.2.33, ...\n",
            "Connecting to cdn.freecodecamp.org (cdn.freecodecamp.org)|104.26.3.33|:443... connected.\n",
            "HTTP request sent, awaiting response... 200 OK\n",
            "Length: 50264 (49K) [text/csv]\n",
            "Saving to: ‘insurance.csv.1’\n",
            "\n",
            "insurance.csv.1     100%[===================>]  49.09K  --.-KB/s    in 0s      \n",
            "\n",
            "2024-01-20 17:02:59 (122 MB/s) - ‘insurance.csv.1’ saved [50264/50264]\n",
            "\n"
          ]
        }
      ],
      "source": [
        "# Import data\n",
        "!wget https://cdn.freecodecamp.org/project-data/health-costs/insurance.csv"
      ]
    },
    {
      "cell_type": "code",
      "source": [
        "dataset = pd.read_csv('insurance.csv')"
      ],
      "metadata": {
        "id": "i-6HpBvyHt4U"
      },
      "execution_count": 15,
      "outputs": []
    },
    {
      "cell_type": "code",
      "execution_count": 16,
      "metadata": {
        "id": "LcopvQh3X-kX"
      },
      "outputs": [],
      "source": [
        "df = dataset\n",
        "df[\"sex\"] = pd.factorize(df[\"sex\"])[0]\n",
        "df[\"region\"] = pd.factorize(df[\"region\"])[0]\n",
        "df[\"smoker\"] = pd.factorize(df[\"smoker\"])[0]\n",
        "dataset = df"
      ]
    },
    {
      "cell_type": "code",
      "source": [
        "X_test = dataset.sample(frac=0.2)\n",
        "len(X_test)"
      ],
      "metadata": {
        "id": "L6Yx5PGoB4dg",
        "colab": {
          "base_uri": "https://localhost:8080/"
        },
        "outputId": "b9a1af9c-997d-4472-d506-666f57e01ac1"
      },
      "execution_count": 17,
      "outputs": [
        {
          "output_type": "execute_result",
          "data": {
            "text/plain": [
              "268"
            ]
          },
          "metadata": {},
          "execution_count": 17
        }
      ]
    },
    {
      "cell_type": "code",
      "source": [
        "X_train = dataset[~dataset.isin(X_test)].dropna()\n",
        "len(X_train)"
      ],
      "metadata": {
        "id": "qTs3VQMcB3-x",
        "colab": {
          "base_uri": "https://localhost:8080/"
        },
        "outputId": "5e935638-ec23-4e0a-a1fb-2a13454a5d65"
      },
      "execution_count": 18,
      "outputs": [
        {
          "output_type": "execute_result",
          "data": {
            "text/plain": [
              "1070"
            ]
          },
          "metadata": {},
          "execution_count": 18
        }
      ]
    },
    {
      "cell_type": "code",
      "source": [
        "y_train = X_train.pop(\"expenses\")"
      ],
      "metadata": {
        "id": "b8aSaiAdB-EJ"
      },
      "execution_count": 19,
      "outputs": []
    },
    {
      "cell_type": "code",
      "source": [
        "y_test = X_test.pop(\"expenses\")"
      ],
      "metadata": {
        "id": "odRtIeofIBQi"
      },
      "execution_count": 20,
      "outputs": []
    },
    {
      "cell_type": "code",
      "source": [
        "normalizer = layers.experimental.preprocessing.Normalization()\n",
        "normalizer.adapt(np.array(X_train))\n",
        "\n",
        "model = Sequential()\n",
        "model.add(normalizer)\n",
        "model.add(layers.Dense(16))\n",
        "model.add(layers.Dense(4))\n",
        "model.add(layers.Dropout(.2))\n",
        "model.add(layers.Dense(1))"
      ],
      "metadata": {
        "id": "zaVmOJzjIBET"
      },
      "execution_count": 21,
      "outputs": []
    },
    {
      "cell_type": "code",
      "source": [
        "model.compile(optimizer=tf.optimizers.Adam(learning_rate=0.1), loss='mae', metrics=['mae', 'mse'])\n",
        "model.build()\n",
        "model.summary()"
      ],
      "metadata": {
        "id": "o5kKZ86ZIKX-",
        "colab": {
          "base_uri": "https://localhost:8080/"
        },
        "outputId": "ea984210-6ed8-43d5-f7ad-1cfb248dd5e2"
      },
      "execution_count": 22,
      "outputs": [
        {
          "output_type": "stream",
          "name": "stdout",
          "text": [
            "Model: \"sequential\"\n",
            "_________________________________________________________________\n",
            " Layer (type)                Output Shape              Param #   \n",
            "=================================================================\n",
            " normalization (Normalizati  (None, 6)                 13        \n",
            " on)                                                             \n",
            "                                                                 \n",
            " dense (Dense)               (None, 16)                112       \n",
            "                                                                 \n",
            " dense_1 (Dense)             (None, 4)                 68        \n",
            "                                                                 \n",
            " dropout (Dropout)           (None, 4)                 0         \n",
            "                                                                 \n",
            " dense_2 (Dense)             (None, 1)                 5         \n",
            "                                                                 \n",
            "=================================================================\n",
            "Total params: 198 (796.00 Byte)\n",
            "Trainable params: 185 (740.00 Byte)\n",
            "Non-trainable params: 13 (56.00 Byte)\n",
            "_________________________________________________________________\n"
          ]
        }
      ]
    },
    {
      "cell_type": "code",
      "source": [
        "history = model.fit(\n",
        "    X_train,\n",
        "    y_train,\n",
        "    epochs=100,\n",
        "    validation_split=0.5,\n",
        "    verbose=0\n",
        ")\n",
        "\n",
        "print(history)"
      ],
      "metadata": {
        "id": "5TFi3XvjIA3T",
        "colab": {
          "base_uri": "https://localhost:8080/"
        },
        "outputId": "1771503a-0d34-4914-880e-6c9721b65ed0"
      },
      "execution_count": 23,
      "outputs": [
        {
          "output_type": "stream",
          "name": "stdout",
          "text": [
            "<keras.src.callbacks.History object at 0x7ca63c503ac0>\n"
          ]
        }
      ]
    },
    {
      "cell_type": "code",
      "execution_count": 24,
      "metadata": {
        "id": "Xe7RXH3N3CWU",
        "colab": {
          "base_uri": "https://localhost:8080/",
          "height": 524
        },
        "outputId": "8511d0bc-dd51-4636-e146-0105d81b5427"
      },
      "outputs": [
        {
          "output_type": "stream",
          "name": "stdout",
          "text": [
            "9/9 - 0s - loss: 3280.4487 - mae: 3280.4487 - mse: 36475588.0000 - 61ms/epoch - 7ms/step\n",
            "Testing set Mean Abs Error: 3280.45 expenses\n",
            "You passed the challenge. Great job!\n",
            "9/9 [==============================] - 0s 3ms/step\n"
          ]
        },
        {
          "output_type": "display_data",
          "data": {
            "text/plain": [
              "<Figure size 640x480 with 1 Axes>"
            ],
            "image/png": "[encoded data removed]"
          },
          "metadata": {}
        }
      ],
      "source": [
        "# RUN THIS CELL TO TEST YOUR MODEL. DO NOT MODIFY CONTENTS.\n",
        "# Test model by checking how well the model generalizes using the test set.\n",
        "loss, mae, mse = model.evaluate(X_test, y_test, verbose=2)\n",
        "\n",
        "print(\"Testing set Mean Abs Error: {:5.2f} expenses\".format(mae))\n",
        "\n",
        "if mae < 3500:\n",
        "  print(\"You passed the challenge. Great job!\")\n",
        "else:\n",
        "  print(\"The Mean Abs Error must be less than 3500. Keep trying.\")\n",
        "\n",
        "# Plot predictions.\n",
        "test_predictions = model.predict(X_test).flatten()\n",
        "\n",
        "a = plt.axes(aspect='equal')\n",
        "plt.scatter(y_test, test_predictions)\n",
        "plt.xlabel('Actual expenses ')\n",
        "plt.ylabel('Predicted expenses')\n",
        "lims = [0, 50000]\n",
        "plt.xlim(lims)\n",
        "plt.ylim(lims)\n",
        "_ = plt.plot(lims,lims)\n"
      ]
    }
  ],
  "metadata": {
    "colab": {
      "provenance": [],
      "gpuType": "T4"
    },
    "kernelspec": {
      "display_name": "Python 3",
      "name": "python3"
    },
    "accelerator": "GPU"
  },
  "nbformat": 4,
  "nbformat_minor": 0
}